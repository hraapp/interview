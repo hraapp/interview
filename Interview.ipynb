{
 "cells": [
  {
   "cell_type": "code",
   "execution_count": 1,
   "id": "9dfd3d2b-364f-4447-a9ad-7f47e374ae71",
   "metadata": {},
   "outputs": [],
   "source": [
    "from main import check_temperature_above_threshold"
   ]
  },
  {
   "cell_type": "code",
   "execution_count": 5,
   "id": "c95a874d-4841-442d-941a-08ddaab3f074",
   "metadata": {},
   "outputs": [
    {
     "name": "stdout",
     "output_type": "stream",
     "text": [
      "Periods when the temperature was above 25 degrees for more than 3 consecutive hours:\n",
      "From 2024-02-15 02:00:00 to 2024-02-15 04:00:00\n",
      "From 2024-02-16 00:00:00 to 2024-02-16 02:00:00\n",
      "From 2024-02-16 00:00:00 to 2024-02-16 03:00:00\n",
      "From 2024-02-16 00:00:00 to 2024-02-16 04:00:00\n",
      "From 2024-02-17 00:00:00 to 2024-02-17 02:00:00\n",
      "From 2024-02-17 00:00:00 to 2024-02-17 03:00:00\n",
      "From 2024-02-17 00:00:00 to 2024-02-17 04:00:00\n"
     ]
    }
   ],
   "source": [
    "latitude = -36.8485\n",
    "longitude = 174.7635\n",
    "check_temperature_above_threshold(latitude, longitude, threshold=25, duration=3)"
   ]
  },
  {
   "cell_type": "markdown",
   "id": "cb8974ac-0de1-4e28-95ea-b730132556c9",
   "metadata": {},
   "source": [
    "### Q. Which is the hottest day in the coming days?"
   ]
  },
  {
   "cell_type": "code",
   "execution_count": null,
   "id": "f21c5daa-99a8-41d7-8213-ecc058140a45",
   "metadata": {},
   "outputs": [],
   "source": [
    "# Code goes in here"
   ]
  },
  {
   "cell_type": "markdown",
   "id": "897d7596-693a-454e-a6ee-e4b21353ade7",
   "metadata": {},
   "source": [
    "### Find the highest and lowest temperature everyday."
   ]
  },
  {
   "cell_type": "code",
   "execution_count": null,
   "id": "d8537786-5a1e-4f49-985f-07802f0daa2e",
   "metadata": {},
   "outputs": [],
   "source": [
    "# Code goes in here"
   ]
  },
  {
   "cell_type": "code",
   "execution_count": null,
   "id": "718027b3-5ef5-4e92-a546-73001609246c",
   "metadata": {},
   "outputs": [],
   "source": []
  }
 ],
 "metadata": {
  "kernelspec": {
   "display_name": "Python 3 (ipykernel)",
   "language": "python",
   "name": "python3"
  },
  "language_info": {
   "codemirror_mode": {
    "name": "ipython",
    "version": 3
   },
   "file_extension": ".py",
   "mimetype": "text/x-python",
   "name": "python",
   "nbconvert_exporter": "python",
   "pygments_lexer": "ipython3",
   "version": "3.10.12"
  }
 },
 "nbformat": 4,
 "nbformat_minor": 5
}
