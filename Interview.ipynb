{
 "cells": [
  {
   "cell_type": "code",
   "execution_count": 1,
   "id": "9dfd3d2b-364f-4447-a9ad-7f47e374ae71",
   "metadata": {},
   "outputs": [],
   "source": [
    "from forecast import hourly_temperature as get_forcast_temperature"
   ]
  },
  {
   "cell_type": "code",
   "execution_count": 4,
   "id": "c95a874d-4841-442d-941a-08ddaab3f074",
   "metadata": {},
   "outputs": [
    {
     "data": {
      "text/html": [
       "<div>\n",
       "<style scoped>\n",
       "    .dataframe tbody tr th:only-of-type {\n",
       "        vertical-align: middle;\n",
       "    }\n",
       "\n",
       "    .dataframe tbody tr th {\n",
       "        vertical-align: top;\n",
       "    }\n",
       "\n",
       "    .dataframe thead th {\n",
       "        text-align: right;\n",
       "    }\n",
       "</style>\n",
       "<table border=\"1\" class=\"dataframe\">\n",
       "  <thead>\n",
       "    <tr style=\"text-align: right;\">\n",
       "      <th></th>\n",
       "      <th>date</th>\n",
       "      <th>temperature_2m</th>\n",
       "    </tr>\n",
       "  </thead>\n",
       "  <tbody>\n",
       "    <tr>\n",
       "      <th>0</th>\n",
       "      <td>2024-02-19 00:00:00</td>\n",
       "      <td>25.4</td>\n",
       "    </tr>\n",
       "    <tr>\n",
       "      <th>1</th>\n",
       "      <td>2024-02-19 01:00:00</td>\n",
       "      <td>25.7</td>\n",
       "    </tr>\n",
       "    <tr>\n",
       "      <th>2</th>\n",
       "      <td>2024-02-19 02:00:00</td>\n",
       "      <td>25.6</td>\n",
       "    </tr>\n",
       "    <tr>\n",
       "      <th>3</th>\n",
       "      <td>2024-02-19 03:00:00</td>\n",
       "      <td>25.2</td>\n",
       "    </tr>\n",
       "    <tr>\n",
       "      <th>4</th>\n",
       "      <td>2024-02-19 04:00:00</td>\n",
       "      <td>24.6</td>\n",
       "    </tr>\n",
       "    <tr>\n",
       "      <th>...</th>\n",
       "      <td>...</td>\n",
       "      <td>...</td>\n",
       "    </tr>\n",
       "    <tr>\n",
       "      <th>163</th>\n",
       "      <td>2024-02-25 19:00:00</td>\n",
       "      <td>19.4</td>\n",
       "    </tr>\n",
       "    <tr>\n",
       "      <th>164</th>\n",
       "      <td>2024-02-25 20:00:00</td>\n",
       "      <td>21.3</td>\n",
       "    </tr>\n",
       "    <tr>\n",
       "      <th>165</th>\n",
       "      <td>2024-02-25 21:00:00</td>\n",
       "      <td>23.0</td>\n",
       "    </tr>\n",
       "    <tr>\n",
       "      <th>166</th>\n",
       "      <td>2024-02-25 22:00:00</td>\n",
       "      <td>24.6</td>\n",
       "    </tr>\n",
       "    <tr>\n",
       "      <th>167</th>\n",
       "      <td>2024-02-25 23:00:00</td>\n",
       "      <td>26.1</td>\n",
       "    </tr>\n",
       "  </tbody>\n",
       "</table>\n",
       "<p>168 rows × 2 columns</p>\n",
       "</div>"
      ],
      "text/plain": [
       "                   date  temperature_2m\n",
       "0   2024-02-19 00:00:00            25.4\n",
       "1   2024-02-19 01:00:00            25.7\n",
       "2   2024-02-19 02:00:00            25.6\n",
       "3   2024-02-19 03:00:00            25.2\n",
       "4   2024-02-19 04:00:00            24.6\n",
       "..                  ...             ...\n",
       "163 2024-02-25 19:00:00            19.4\n",
       "164 2024-02-25 20:00:00            21.3\n",
       "165 2024-02-25 21:00:00            23.0\n",
       "166 2024-02-25 22:00:00            24.6\n",
       "167 2024-02-25 23:00:00            26.1\n",
       "\n",
       "[168 rows x 2 columns]"
      ]
     },
     "execution_count": 4,
     "metadata": {},
     "output_type": "execute_result"
    }
   ],
   "source": [
    "latitude = -36.8485\n",
    "longitude = 174.7635\n",
    "df = get_forcast_temperature(latitude, longitude)\n",
    "df"
   ]
  },
  {
   "cell_type": "markdown",
   "id": "cb8974ac-0de1-4e28-95ea-b730132556c9",
   "metadata": {},
   "source": [
    "### Q. In this forecast data what is the hottest day between the 19th and 25th Feb?\n",
    "\n",
    "Suggested approaches are - \n",
    "1. Use the data table to find the max temperature and display the temperature & date\n",
    "2. Plot the data"
   ]
  },
  {
   "cell_type": "code",
   "execution_count": 3,
   "id": "f21c5daa-99a8-41d7-8213-ecc058140a45",
   "metadata": {},
   "outputs": [],
   "source": [
    "# Code goes in here"
   ]
  },
  {
   "cell_type": "markdown",
   "id": "ca73f95a",
   "metadata": {},
   "source": [
    "### Q. For each day, calculate the average temperature between 12:00 pm and 03:00 pm, inclusive.\n",
    "\n",
    "Start by describing your approach."
   ]
  },
  {
   "cell_type": "code",
   "execution_count": 4,
   "id": "b3ca9a4d",
   "metadata": {},
   "outputs": [],
   "source": [
    "# Code goes in here"
   ]
  }
 ],
 "metadata": {
  "kernelspec": {
   "display_name": "Python 3 (ipykernel)",
   "language": "python",
   "name": "python3"
  },
  "language_info": {
   "codemirror_mode": {
    "name": "ipython",
    "version": 3
   },
   "file_extension": ".py",
   "mimetype": "text/x-python",
   "name": "python",
   "nbconvert_exporter": "python",
   "pygments_lexer": "ipython3",
   "version": "3.10.12"
  }
 },
 "nbformat": 4,
 "nbformat_minor": 5
}
