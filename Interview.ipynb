{
 "cells": [
  {
   "cell_type": "code",
   "execution_count": 1,
   "id": "9dfd3d2b-364f-4447-a9ad-7f47e374ae71",
   "metadata": {},
   "outputs": [
    {
     "data": {
      "text/plain": [
       "'/usr/bin/python3'"
      ]
     },
     "execution_count": 1,
     "metadata": {},
     "output_type": "execute_result"
    }
   ],
   "source": [
    "from forecast import hourly_temperature"
   ]
  },
  {
   "cell_type": "code",
   "execution_count": 12,
   "id": "c95a874d-4841-442d-941a-08ddaab3f074",
   "metadata": {},
   "outputs": [
    {
     "data": {
      "text/html": [
       "<div>\n",
       "<style scoped>\n",
       "    .dataframe tbody tr th:only-of-type {\n",
       "        vertical-align: middle;\n",
       "    }\n",
       "\n",
       "    .dataframe tbody tr th {\n",
       "        vertical-align: top;\n",
       "    }\n",
       "\n",
       "    .dataframe thead th {\n",
       "        text-align: right;\n",
       "    }\n",
       "</style>\n",
       "<table border=\"1\" class=\"dataframe\">\n",
       "  <thead>\n",
       "    <tr style=\"text-align: right;\">\n",
       "      <th></th>\n",
       "      <th>date</th>\n",
       "      <th>temperature_2m</th>\n",
       "    </tr>\n",
       "  </thead>\n",
       "  <tbody>\n",
       "    <tr>\n",
       "      <th>0</th>\n",
       "      <td>2024-02-12 00:00:00</td>\n",
       "      <td>23.9</td>\n",
       "    </tr>\n",
       "    <tr>\n",
       "      <th>1</th>\n",
       "      <td>2024-02-12 01:00:00</td>\n",
       "      <td>24.7</td>\n",
       "    </tr>\n",
       "    <tr>\n",
       "      <th>2</th>\n",
       "      <td>2024-02-12 02:00:00</td>\n",
       "      <td>25.3</td>\n",
       "    </tr>\n",
       "    <tr>\n",
       "      <th>3</th>\n",
       "      <td>2024-02-12 03:00:00</td>\n",
       "      <td>24.7</td>\n",
       "    </tr>\n",
       "    <tr>\n",
       "      <th>4</th>\n",
       "      <td>2024-02-12 04:00:00</td>\n",
       "      <td>23.5</td>\n",
       "    </tr>\n",
       "  </tbody>\n",
       "</table>\n",
       "</div>"
      ],
      "text/plain": [
       "                 date  temperature_2m\n",
       "0 2024-02-12 00:00:00            23.9\n",
       "1 2024-02-12 01:00:00            24.7\n",
       "2 2024-02-12 02:00:00            25.3\n",
       "3 2024-02-12 03:00:00            24.7\n",
       "4 2024-02-12 04:00:00            23.5"
      ]
     },
     "execution_count": 12,
     "metadata": {},
     "output_type": "execute_result"
    }
   ],
   "source": [
    "latitude = -36.8485\n",
    "longitude = 174.7635\n",
    "df = hourly_temperature(latitude, longitude)\n",
    "df.head()"
   ]
  },
  {
   "cell_type": "markdown",
   "id": "cb8974ac-0de1-4e28-95ea-b730132556c9",
   "metadata": {},
   "source": [
    "### Q. In this forecast data what is the hottest day between the 13th and 20th Feb?\n",
    "\n",
    "Suggested approaches are - \n",
    "1. Use the data table to find the max temperature and display the temperature & date\n",
    "2. Plot the data"
   ]
  },
  {
   "cell_type": "code",
   "execution_count": null,
   "id": "f21c5daa-99a8-41d7-8213-ecc058140a45",
   "metadata": {},
   "outputs": [],
   "source": [
    "# Code goes in here"
   ]
  },
  {
   "cell_type": "markdown",
   "id": "ca73f95a",
   "metadata": {},
   "source": [
    "### Q. For each day, calculate the average temperature between 12:00 pm and 03:00 pm, inclusive.\n",
    "\n",
    "Start by describing your approach."
   ]
  },
  {
   "cell_type": "code",
   "execution_count": 13,
   "id": "b3ca9a4d",
   "metadata": {},
   "outputs": [],
   "source": [
    "# Code goes in here"
   ]
  },
  {
   "cell_type": "markdown",
   "id": "49002895",
   "metadata": {},
   "source": []
  }
 ],
 "metadata": {
  "kernelspec": {
   "display_name": "Python 3 (ipykernel)",
   "language": "python",
   "name": "python3"
  },
  "language_info": {
   "codemirror_mode": {
    "name": "ipython",
    "version": 3
   },
   "file_extension": ".py",
   "mimetype": "text/x-python",
   "name": "python",
   "nbconvert_exporter": "python",
   "pygments_lexer": "ipython3",
   "version": "3.10.12"
  }
 },
 "nbformat": 4,
 "nbformat_minor": 5
}
